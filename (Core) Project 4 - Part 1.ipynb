{
 "cells": [
  {
   "cell_type": "markdown",
   "id": "ba594954",
   "metadata": {},
   "source": [
    "# (Core) Project 4 - Part 1\n",
    "Task:\n",
    "Your task is to answer a series of questions about trends in crimes in Chicago for a reporter for the local newspaper.\n",
    "\n",
    "   - Stakeholder Questions to Answer (pick at least 3 topics) Select 3 or more of the following topics to analyze:\n",
    "- 1) Comparing Police Districts:\n",
    "        - Which district has the most crimes? Which has the least?\n",
    "- 2) Crimes Across the Years:\n",
    "        - Is the total number of crimes increasing or decreasing across the years?\n",
    "        - Are there any individual crimes that are doing the opposite (e.g decreasing when overall crime is increasing or vice-versa)?\n",
    "- 3) Comparing AM vs. PM Rush Hour:\n",
    "        - Are crimes more common during AM rush hour or PM rush hour?\n",
    "        - You can consider any crime that occurred between 7 AM - 10 AM as AM rush hour\n",
    "        - You can consider any crime that occurred between 4 -7 PM as PM rush hour.\n",
    "        - What are the top 5 most common crimes during AM rush hour? What are the top 5 most common crimes during PM rush hour?\n",
    "        - Are Motor Vehicle Thefts more common during AM rush hour or PM Rush Hour?\n",
    "- 4) Comparing Months:\n",
    "        - What months have the most crime? What months have the least?\n",
    "        - Are there any individual crimes that do not follow this pattern? If so, which crimes?\n",
    "- 5) Comparing Holidays:\n",
    "        - Are there any holidays that show an increase in the # of crimes?\n",
    "        - Are there any holidays that show a decrease in the # of crimes?"
   ]
  },
  {
   "cell_type": "code",
   "execution_count": 7,
   "id": "3312a78c",
   "metadata": {},
   "outputs": [],
   "source": [
    "import glob\n",
    "import pandas as pd\n",
    "import datetime as dt\n",
    "import matplotlib.pyplot as plt"
   ]
  },
  {
   "cell_type": "code",
   "execution_count": 2,
   "id": "1e9e02cc",
   "metadata": {
    "scrolled": false
   },
   "outputs": [
    {
     "data": {
      "text/html": [
       "<div>\n",
       "<style scoped>\n",
       "    .dataframe tbody tr th:only-of-type {\n",
       "        vertical-align: middle;\n",
       "    }\n",
       "\n",
       "    .dataframe tbody tr th {\n",
       "        vertical-align: top;\n",
       "    }\n",
       "\n",
       "    .dataframe thead th {\n",
       "        text-align: right;\n",
       "    }\n",
       "</style>\n",
       "<table border=\"1\" class=\"dataframe\">\n",
       "  <thead>\n",
       "    <tr style=\"text-align: right;\">\n",
       "      <th></th>\n",
       "      <th>ID</th>\n",
       "      <th>Date</th>\n",
       "      <th>Primary Type</th>\n",
       "      <th>Description</th>\n",
       "      <th>Location Description</th>\n",
       "      <th>Arrest</th>\n",
       "      <th>Domestic</th>\n",
       "      <th>Beat</th>\n",
       "      <th>District</th>\n",
       "      <th>Ward</th>\n",
       "      <th>Latitude</th>\n",
       "      <th>Longitude</th>\n",
       "    </tr>\n",
       "  </thead>\n",
       "  <tbody>\n",
       "    <tr>\n",
       "      <th>0</th>\n",
       "      <td>1330412</td>\n",
       "      <td>01/01/2001 01:00:00 AM</td>\n",
       "      <td>THEFT</td>\n",
       "      <td>$500 AND UNDER</td>\n",
       "      <td>TAVERN/LIQUOR STORE</td>\n",
       "      <td>False</td>\n",
       "      <td>False</td>\n",
       "      <td>1813</td>\n",
       "      <td>18.0</td>\n",
       "      <td>NaN</td>\n",
       "      <td>41.917383</td>\n",
       "      <td>-87.648623</td>\n",
       "    </tr>\n",
       "    <tr>\n",
       "      <th>1</th>\n",
       "      <td>1312557</td>\n",
       "      <td>01/01/2001 01:00:00 PM</td>\n",
       "      <td>MOTOR VEHICLE THEFT</td>\n",
       "      <td>AUTOMOBILE</td>\n",
       "      <td>STREET</td>\n",
       "      <td>False</td>\n",
       "      <td>False</td>\n",
       "      <td>513</td>\n",
       "      <td>5.0</td>\n",
       "      <td>NaN</td>\n",
       "      <td>41.695025</td>\n",
       "      <td>-87.620629</td>\n",
       "    </tr>\n",
       "    <tr>\n",
       "      <th>2</th>\n",
       "      <td>1310741</td>\n",
       "      <td>01/01/2001 01:00:00 PM</td>\n",
       "      <td>BATTERY</td>\n",
       "      <td>SIMPLE</td>\n",
       "      <td>RESIDENCE PORCH/HALLWAY</td>\n",
       "      <td>False</td>\n",
       "      <td>False</td>\n",
       "      <td>1722</td>\n",
       "      <td>17.0</td>\n",
       "      <td>NaN</td>\n",
       "      <td>41.967833</td>\n",
       "      <td>-87.739978</td>\n",
       "    </tr>\n",
       "    <tr>\n",
       "      <th>3</th>\n",
       "      <td>1315987</td>\n",
       "      <td>01/01/2001 01:00:00 AM</td>\n",
       "      <td>CRIMINAL DAMAGE</td>\n",
       "      <td>TO PROPERTY</td>\n",
       "      <td>CHA APARTMENT</td>\n",
       "      <td>False</td>\n",
       "      <td>False</td>\n",
       "      <td>1823</td>\n",
       "      <td>18.0</td>\n",
       "      <td>NaN</td>\n",
       "      <td>41.899860</td>\n",
       "      <td>-87.639877</td>\n",
       "    </tr>\n",
       "    <tr>\n",
       "      <th>4</th>\n",
       "      <td>1312658</td>\n",
       "      <td>01/01/2001 01:00:00 AM</td>\n",
       "      <td>BATTERY</td>\n",
       "      <td>SIMPLE</td>\n",
       "      <td>STREET</td>\n",
       "      <td>False</td>\n",
       "      <td>False</td>\n",
       "      <td>2534</td>\n",
       "      <td>25.0</td>\n",
       "      <td>NaN</td>\n",
       "      <td>41.915450</td>\n",
       "      <td>-87.726575</td>\n",
       "    </tr>\n",
       "  </tbody>\n",
       "</table>\n",
       "</div>"
      ],
      "text/plain": [
       "        ID                    Date         Primary Type     Description  \\\n",
       "0  1330412  01/01/2001 01:00:00 AM                THEFT  $500 AND UNDER   \n",
       "1  1312557  01/01/2001 01:00:00 PM  MOTOR VEHICLE THEFT      AUTOMOBILE   \n",
       "2  1310741  01/01/2001 01:00:00 PM              BATTERY          SIMPLE   \n",
       "3  1315987  01/01/2001 01:00:00 AM      CRIMINAL DAMAGE     TO PROPERTY   \n",
       "4  1312658  01/01/2001 01:00:00 AM              BATTERY          SIMPLE   \n",
       "\n",
       "      Location Description  Arrest  Domestic  Beat  District  Ward   Latitude  \\\n",
       "0      TAVERN/LIQUOR STORE   False     False  1813      18.0   NaN  41.917383   \n",
       "1                   STREET   False     False   513       5.0   NaN  41.695025   \n",
       "2  RESIDENCE PORCH/HALLWAY   False     False  1722      17.0   NaN  41.967833   \n",
       "3            CHA APARTMENT   False     False  1823      18.0   NaN  41.899860   \n",
       "4                   STREET   False     False  2534      25.0   NaN  41.915450   \n",
       "\n",
       "   Longitude  \n",
       "0 -87.648623  \n",
       "1 -87.620629  \n",
       "2 -87.739978  \n",
       "3 -87.639877  \n",
       "4 -87.726575  "
      ]
     },
     "metadata": {},
     "output_type": "display_data"
    },
    {
     "name": "stdout",
     "output_type": "stream",
     "text": [
      "<class 'pandas.core.frame.DataFrame'>\n",
      "Int64Index: 3167123 entries, 0 to 1234\n",
      "Data columns (total 12 columns):\n",
      " #   Column                Dtype  \n",
      "---  ------                -----  \n",
      " 0   ID                    int64  \n",
      " 1   Date                  object \n",
      " 2   Primary Type          object \n",
      " 3   Description           object \n",
      " 4   Location Description  object \n",
      " 5   Arrest                bool   \n",
      " 6   Domestic              bool   \n",
      " 7   Beat                  int64  \n",
      " 8   District              float64\n",
      " 9   Ward                  float64\n",
      " 10  Latitude              float64\n",
      " 11  Longitude             float64\n",
      "dtypes: bool(2), float64(4), int64(2), object(4)\n",
      "memory usage: 271.8+ MB\n"
     ]
    }
   ],
   "source": [
    "folder = \"Data/Chicago/\"\n",
    "crime_files = sorted(glob.glob(folder+\"*.csv\"))\n",
    "df = pd.concat([pd.read_csv(f) for f in crime_files])\n",
    "display(df.head(5))\n",
    "df.info()"
   ]
  },
  {
   "cell_type": "code",
   "execution_count": 9,
   "id": "9921eba5",
   "metadata": {},
   "outputs": [
    {
     "data": {
      "text/plain": [
       "ID                           0\n",
       "Date                         0\n",
       "Primary Type                 0\n",
       "Description                  0\n",
       "Location Description      3915\n",
       "Arrest                       0\n",
       "Domestic                     0\n",
       "Beat                         0\n",
       "District                     3\n",
       "Ward                    586712\n",
       "Latitude                 12131\n",
       "Longitude                12131\n",
       "Datetime                     0\n",
       "dtype: int64"
      ]
     },
     "execution_count": 9,
     "metadata": {},
     "output_type": "execute_result"
    }
   ],
   "source": [
    "# Finding Missing Values\n",
    "df.isna().sum()"
   ]
  },
  {
   "cell_type": "markdown",
   "id": "9808edb3",
   "metadata": {},
   "source": [
    "## Comparing Police Districts:\n",
    "- Which district has the most crimes? Which has the least?"
   ]
  },
  {
   "cell_type": "code",
   "execution_count": 3,
   "id": "aad024b4",
   "metadata": {},
   "outputs": [
    {
     "name": "stdout",
     "output_type": "stream",
     "text": [
      "District 8.0 had the most crimes with 206105 and District 20.0 had the least crimes with 57600\n"
     ]
    }
   ],
   "source": [
    "values = df[\"District\"].value_counts().keys().tolist()\n",
    "counts = df[\"District\"].value_counts().tolist()\n",
    "print(f\"District {values[0]} had the most crimes with {counts[0]} and District {values[-3]} had the least crimes with {counts[-3]}\")\n",
    "## Sidenote: District 21 and 31 are special units"
   ]
  },
  {
   "cell_type": "markdown",
   "id": "390acd80",
   "metadata": {},
   "source": [
    "## Comparing Months:\n",
    "- What months have the most crime? What months have the least?\n",
    "- Are there any individual crimes that do not follow this pattern? If so, which crimes?"
   ]
  },
  {
   "cell_type": "code",
   "execution_count": 18,
   "id": "bf9daf56",
   "metadata": {},
   "outputs": [
    {
     "data": {
      "text/plain": [
       "THEFT                                666640\n",
       "BATTERY                              594756\n",
       "CRIMINAL DAMAGE                      364592\n",
       "NARCOTICS                            292657\n",
       "OTHER OFFENSE                        207950\n",
       "ASSAULT                              207255\n",
       "BURGLARY                             164515\n",
       "MOTOR VEHICLE THEFT                  150721\n",
       "DECEPTIVE PRACTICE                   137181\n",
       "ROBBERY                              119396\n",
       "CRIMINAL TRESPASS                     93213\n",
       "WEAPONS VIOLATION                     38369\n",
       "PROSTITUTION                          31710\n",
       "OFFENSE INVOLVING CHILDREN            21011\n",
       "PUBLIC PEACE VIOLATION                18200\n",
       "SEX OFFENSE                           13032\n",
       "CRIM SEXUAL ASSAULT                   12689\n",
       "INTERFERENCE WITH PUBLIC OFFICER       6786\n",
       "LIQUOR LAW VIOLATION                   6670\n",
       "ARSON                                  5701\n",
       "GAMBLING                               5102\n",
       "KIDNAPPING                             3846\n",
       "INTIMIDATION                           2049\n",
       "STALKING                               1678\n",
       "CONCEALED CARRY LICENSE VIOLATION       377\n",
       "OBSCENITY                               349\n",
       "CRIMINAL SEXUAL ASSAULT                 298\n",
       "NON-CRIMINAL                            135\n",
       "PUBLIC INDECENCY                         79\n",
       "OTHER NARCOTIC VIOLATION                 47\n",
       "HUMAN TRAFFICKING                        44\n",
       "HOMICIDE                                 40\n",
       "NON - CRIMINAL                           15\n",
       "RITUALISM                                13\n",
       "NON-CRIMINAL (SUBJECT SPECIFIED)          6\n",
       "DOMESTIC VIOLENCE                         1\n",
       "Name: Primary Type, dtype: int64"
      ]
     },
     "execution_count": 18,
     "metadata": {},
     "output_type": "execute_result"
    }
   ],
   "source": [
    "df[\"Primary Type\"].value_counts()"
   ]
  },
  {
   "cell_type": "code",
   "execution_count": 20,
   "id": "0d62711b",
   "metadata": {},
   "outputs": [
    {
     "name": "stdout",
     "output_type": "stream",
     "text": [
      "May had the most crimes with 298288 and December had the least crimes with 224352\n"
     ]
    }
   ],
   "source": [
    "# What months have the most crime? What months have the least?\n",
    "df[\"Month\"] = df[\"Datetime\"].dt.month_name()\n",
    "value_month = df[\"Month\"].value_counts().keys().tolist()\n",
    "counts_month = df[\"Month\"].value_counts().tolist()\n",
    "\n",
    "print(f\"{value_month[0]} had the most crimes with {counts_month[0]} and {value_month[-1]} had the least crimes with {counts_month[-1]}\")"
   ]
  },
  {
   "cell_type": "markdown",
   "id": "9e54cd99",
   "metadata": {},
   "source": [
    "## Comparing Holidays:\n",
    "- Are there any holidays that show an increase in the # of crimes?\n",
    "- Are there any holidays that show a decrease in the # of crimes?"
   ]
  },
  {
   "cell_type": "code",
   "execution_count": 27,
   "id": "081489e4",
   "metadata": {},
   "outputs": [],
   "source": [
    "import holidays\n",
    "from holidays import country_holidays\n",
    "holidays = country_holidays(\"US\")"
   ]
  },
  {
   "cell_type": "code",
   "execution_count": 29,
   "id": "00481897",
   "metadata": {},
   "outputs": [
    {
     "data": {
      "text/plain": [
       "New Year's Day                                     12463\n",
       "Independence Day                                    9555\n",
       "Memorial Day                                        9139\n",
       "Columbus Day                                        8589\n",
       "Labor Day                                           8232\n",
       "Washington's Birthday                               7809\n",
       "Veterans Day                                        7758\n",
       "Martin Luther King Jr. Day                          7627\n",
       "Thanksgiving                                        5581\n",
       "Christmas Day                                       4579\n",
       "Veterans Day (Observed)                             2522\n",
       "Independence Day (Observed)                         2114\n",
       "New Year's Day (Observed)                           1666\n",
       "Christmas Day (Observed)                            1446\n",
       "Juneteenth National Independence Day (Observed)        1\n",
       "Name: Holiday, dtype: int64"
      ]
     },
     "execution_count": 29,
     "metadata": {},
     "output_type": "execute_result"
    }
   ],
   "source": [
    "df[\"Holiday\"] = df[\"Datetime\"].map(holidays.get)\n",
    "df[\"Holiday\"].value_counts()"
   ]
  }
 ],
 "metadata": {
  "kernelspec": {
   "display_name": "Python (dojo-env)",
   "language": "python",
   "name": "dojo-env"
  },
  "language_info": {
   "codemirror_mode": {
    "name": "ipython",
    "version": 3
   },
   "file_extension": ".py",
   "mimetype": "text/x-python",
   "name": "python",
   "nbconvert_exporter": "python",
   "pygments_lexer": "ipython3",
   "version": "3.9.15"
  },
  "toc": {
   "base_numbering": 1,
   "nav_menu": {},
   "number_sections": true,
   "sideBar": true,
   "skip_h1_title": false,
   "title_cell": "Table of Contents",
   "title_sidebar": "Contents",
   "toc_cell": false,
   "toc_position": {},
   "toc_section_display": true,
   "toc_window_display": false
  }
 },
 "nbformat": 4,
 "nbformat_minor": 5
}
